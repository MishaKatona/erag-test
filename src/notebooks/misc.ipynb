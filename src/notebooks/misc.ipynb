{
 "cells": [
  {
   "metadata": {
    "ExecuteTime": {
     "end_time": "2024-07-30T11:34:06.436658Z",
     "start_time": "2024-07-30T11:33:59.317673Z"
    }
   },
   "cell_type": "code",
   "source": [
    "from sentence_transformers import SentenceTransformer\n",
    "from sklearn.metrics.pairwise import cosine_similarity\n",
    "import pandas as pd"
   ],
   "id": "df416f48594e5c2b",
   "outputs": [],
   "execution_count": 155
  },
  {
   "metadata": {
    "ExecuteTime": {
     "end_time": "2024-07-30T11:34:07.803212Z",
     "start_time": "2024-07-30T11:34:06.438447Z"
    }
   },
   "cell_type": "code",
   "source": [
    "# model = SentenceTransformer(\"BAAI/bge-small-en-v1.5\")\n",
    "# model = SentenceTransformer(\"avsolatorio/GIST-Embedding-v0\")\n",
    "# model = SentenceTransformer(\"all-MiniLM-L6-v2\") \n",
    "model = SentenceTransformer(\"TaylorAI/bge-micro-v2\")"
   ],
   "id": "d65337d906d19d4f",
   "outputs": [],
   "execution_count": 156
  },
  {
   "metadata": {
    "ExecuteTime": {
     "end_time": "2024-07-30T11:38:18.348689Z",
     "start_time": "2024-07-30T11:38:18.345232Z"
    }
   },
   "cell_type": "code",
   "source": [
    "balance_sheet = \"\"\"\n",
    "CONSOLIDATED STATEMENT OF FINANCIAL POSITION\n",
    "AS AT 31 DECEMBER 2023\n",
    "As restated  2023 2022\n",
    "Note £ £\n",
    "Fixed assets  1,139,705 657,702\n",
    "Tangible assets 12 1,039,716 657,702\n",
    "Investments 13 99,989 0\n",
    "Current assets  52,427,405 46,770,501\n",
    "Debtors: amounts falling due within one year 14 31,422,714 27,879,596\n",
    "Cash at bank and in hand 21,004,691 18,890,905\n",
    "Creditors: amounts falling due within one year 15 (38,803,171) (36,249,859)\n",
    "Net current assets 13,624,234 10,520,642\n",
    "Total assets less current liabilities 14,763,939 11,178,344\n",
    "Provisions for liabilities  (140,000) (140,000)\n",
    "Other provisions 17 (140,000) (140,000)\n",
    "Net assets 14,623,939 11,038,344\n",
    "Capital and reserves  14,623,939 11,038,344\n",
    "Called up share capital 18 344,564 344,564\n",
    "Capital redemption reserve 19 210,389 210,389\n",
    "Profit and loss account 19 14,068,986 10,483,391\n",
    "Equity attributable to owners of the parent Company 14,623,939 11,038,344\n",
    "The financial statements were approved and authorised for issue by the board and were signed on its behalf by :\n",
    "T.J. Benzecry T. Diossi\"\"\"\n",
    "\n",
    "table_of_contents = \"\"\"\n",
    "EC2V 7HN\n",
    "WORKPLACE FUTURES GROUP LIMITED\n",
    "CONTENTS\n",
    "Page\n",
    "Group Strategic Report 1 - 4\n",
    "Directors' Report 5 - 7\n",
    "Independent Auditors' Report 8 - 11\n",
    "Consolidated Statement of Comprehensive Income 12\n",
    "Consolidated Statement of Financial Position 13\n",
    "Company Statement of Financial Position 14\n",
    "Consolidated Statement of Changes in Equity 15\n",
    "Company Statement of Changes in Equity 16\n",
    "Consolidated Statement of Cash Flows 17\n",
    "Consolidated Analysis of Net Debt 18\n",
    "Notes to the Financial Statements 19 0 35\n",
    "WORKPLACE FUTURES GROUP LIMITED\n",
    "GROUP STRATEGIC REPORT\n",
    "\"\"\"\n",
    "\n",
    "sentences = [\n",
    "    balance_sheet,\n",
    "    ''.join(e for e in balance_sheet if e.isalpha() or e.isspace()),\n",
    "    table_of_contents,\n",
    "    ''.join(e for e in table_of_contents if e.isalpha() or e.isspace()),\n",
    "]\n"
   ],
   "id": "534c9a993588b1a2",
   "outputs": [],
   "execution_count": 170
  },
  {
   "metadata": {
    "ExecuteTime": {
     "end_time": "2024-07-30T11:39:09.497039Z",
     "start_time": "2024-07-30T11:39:09.428208Z"
    }
   },
   "cell_type": "code",
   "source": "embeddings = model.encode(sentences)",
   "id": "d940e98fbc33dc4d",
   "outputs": [],
   "execution_count": 178
  },
  {
   "metadata": {
    "ExecuteTime": {
     "end_time": "2024-07-30T11:45:50.124866Z",
     "start_time": "2024-07-30T11:45:48.973491Z"
    }
   },
   "cell_type": "code",
   "source": [
    "balance_sheet_embedding = model.encode([\"Net assets, Investments, Total assets less current liabilities\"])\n",
    "table_of_contents_embedding = model.encode([\"Table of contents, page numbers, index, page 1, page 2\"])\n",
    "\n",
    "similarity_df = pd.DataFrame([sentences, embeddings], index=[\"sentence\", \"embedding\"]).T"
   ],
   "id": "829436f17bd37932",
   "outputs": [],
   "execution_count": 181
  },
  {
   "metadata": {
    "ExecuteTime": {
     "end_time": "2024-07-30T11:45:50.132467Z",
     "start_time": "2024-07-30T11:45:50.125862Z"
    }
   },
   "cell_type": "code",
   "source": [
    "similarity_df[\"similarity_to_balance_sheet\"] = cosine_similarity(embeddings, balance_sheet_embedding).flatten()\n",
    "similarity_df[\"similarity_to_table_of_contents\"] = cosine_similarity(embeddings, table_of_contents_embedding).flatten()\n",
    "similarity_df"
   ],
   "id": "5a1f44e04a25127c",
   "outputs": [
    {
     "data": {
      "text/plain": [
       "                                            sentence  \\\n",
       "0  \\nAS AT 31 DECEMBER 2023\\nAs restated  2023 20...   \n",
       "1  \\nAS AT  DECEMBER \\nAs restated   \\nNote  \\nFi...   \n",
       "2  \\nEC2V 7HN\\nWORKPLACE FUTURES GROUP LIMITED\\nC...   \n",
       "3  \\nECV HN\\nWORKPLACE FUTURES GROUP LIMITED\\nCON...   \n",
       "\n",
       "                                           embedding  \\\n",
       "0  [-0.0744713, -0.28015283, 0.08480676, -0.06352...   \n",
       "1  [-0.106166154, -0.039754007, 0.0055076084, -0....   \n",
       "2  [-0.00534734, -0.12797746, -0.063981004, 0.111...   \n",
       "3  [-0.063583784, 0.022861423, 0.013892013, 0.128...   \n",
       "\n",
       "   similarity_to_balance_sheet  similarity_to_table_of_contents  \n",
       "0                     0.700585                         0.524902  \n",
       "1                     0.743520                         0.485376  \n",
       "2                     0.631686                         0.638122  \n",
       "3                     0.617701                         0.588139  "
      ],
      "text/html": [
       "<div>\n",
       "<style scoped>\n",
       "    .dataframe tbody tr th:only-of-type {\n",
       "        vertical-align: middle;\n",
       "    }\n",
       "\n",
       "    .dataframe tbody tr th {\n",
       "        vertical-align: top;\n",
       "    }\n",
       "\n",
       "    .dataframe thead th {\n",
       "        text-align: right;\n",
       "    }\n",
       "</style>\n",
       "<table border=\"1\" class=\"dataframe\">\n",
       "  <thead>\n",
       "    <tr style=\"text-align: right;\">\n",
       "      <th></th>\n",
       "      <th>sentence</th>\n",
       "      <th>embedding</th>\n",
       "      <th>similarity_to_balance_sheet</th>\n",
       "      <th>similarity_to_table_of_contents</th>\n",
       "    </tr>\n",
       "  </thead>\n",
       "  <tbody>\n",
       "    <tr>\n",
       "      <th>0</th>\n",
       "      <td>\\nAS AT 31 DECEMBER 2023\\nAs restated  2023 20...</td>\n",
       "      <td>[-0.0744713, -0.28015283, 0.08480676, -0.06352...</td>\n",
       "      <td>0.700585</td>\n",
       "      <td>0.524902</td>\n",
       "    </tr>\n",
       "    <tr>\n",
       "      <th>1</th>\n",
       "      <td>\\nAS AT  DECEMBER \\nAs restated   \\nNote  \\nFi...</td>\n",
       "      <td>[-0.106166154, -0.039754007, 0.0055076084, -0....</td>\n",
       "      <td>0.743520</td>\n",
       "      <td>0.485376</td>\n",
       "    </tr>\n",
       "    <tr>\n",
       "      <th>2</th>\n",
       "      <td>\\nEC2V 7HN\\nWORKPLACE FUTURES GROUP LIMITED\\nC...</td>\n",
       "      <td>[-0.00534734, -0.12797746, -0.063981004, 0.111...</td>\n",
       "      <td>0.631686</td>\n",
       "      <td>0.638122</td>\n",
       "    </tr>\n",
       "    <tr>\n",
       "      <th>3</th>\n",
       "      <td>\\nECV HN\\nWORKPLACE FUTURES GROUP LIMITED\\nCON...</td>\n",
       "      <td>[-0.063583784, 0.022861423, 0.013892013, 0.128...</td>\n",
       "      <td>0.617701</td>\n",
       "      <td>0.588139</td>\n",
       "    </tr>\n",
       "  </tbody>\n",
       "</table>\n",
       "</div>"
      ]
     },
     "execution_count": 182,
     "metadata": {},
     "output_type": "execute_result"
    }
   ],
   "execution_count": 182
  }
 ],
 "metadata": {
  "kernelspec": {
   "display_name": "Python 3",
   "language": "python",
   "name": "python3"
  },
  "language_info": {
   "codemirror_mode": {
    "name": "ipython",
    "version": 2
   },
   "file_extension": ".py",
   "mimetype": "text/x-python",
   "name": "python",
   "nbconvert_exporter": "python",
   "pygments_lexer": "ipython2",
   "version": "2.7.6"
  }
 },
 "nbformat": 4,
 "nbformat_minor": 5
}
